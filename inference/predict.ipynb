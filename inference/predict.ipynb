{
 "cells": [
  {
   "cell_type": "code",
   "execution_count": 1,
   "metadata": {},
   "outputs": [],
   "source": [
    "%load_ext autoreload\n",
    "%autoreload 2"
   ]
  },
  {
   "cell_type": "code",
   "execution_count": 2,
   "metadata": {},
   "outputs": [
    {
     "name": "stderr",
     "output_type": "stream",
     "text": [
      "/opt/conda/lib/python3.8/site-packages/tqdm/auto.py:22: TqdmWarning: IProgress not found. Please update jupyter and ipywidgets. See https://ipywidgets.readthedocs.io/en/stable/user_install.html\n",
      "  from .autonotebook import tqdm as notebook_tqdm\n"
     ]
    }
   ],
   "source": [
    "import torch\n",
    "import numpy as np\n",
    "import datetime\n",
    "import glob\n",
    "import os\n",
    "import pandas as pd\n",
    "\n",
    "from torch.utils.data import DataLoader\n",
    "\n",
    "from model.custom_model import CustomAudioCLIP\n",
    "from utils.audiolist import AudioList"
   ]
  },
  {
   "cell_type": "markdown",
   "metadata": {},
   "source": [
    "# Parse the folders (match audio path with result path)"
   ]
  },
  {
   "cell_type": "code",
   "execution_count": 3,
   "metadata": {},
   "outputs": [],
   "source": [
    "def remove_extension(input):\n",
    "\n",
    "    filename = input.split(\"/\")[-1].split(\".\")[0]\n",
    "\n",
    "    if len(filename) > 2:\n",
    "        filename = \".\".join(filename[0:-1])\n",
    "    else:\n",
    "        filename = input.split(\"/\")[-1].split(\".\")[0]\n",
    "\n",
    "    return filename\n",
    "\n",
    "def parseFolders(apath, rpath):\n",
    "\n",
    "    audio_files = [f for f in glob.glob(apath + \"/**/*\", recursive = True) if os.path.isfile(f)]\n",
    "    audio_no_extension = []\n",
    "    for audio_file in audio_files:\n",
    "        audio_file_no_extension = remove_extension(audio_file)\n",
    "        audio_no_extension.append(audio_file_no_extension)\n",
    "\n",
    "\n",
    "    result_files = [f for f in glob.glob(rpath + \"/**/*\", recursive = True) if os.path.isfile(f)]\n",
    "\n",
    "    flist = []\n",
    "    for result in result_files:\n",
    "        result_no_extension = remove_extension(result)\n",
    "        is_in = result_no_extension in audio_no_extension\n",
    "\n",
    "        if is_in:\n",
    "            audio_idx = audio_no_extension.index(result_no_extension)\n",
    "            pair = {'audio': audio_files[audio_idx], 'result': result}\n",
    "            flist.append(pair)\n",
    "        else:\n",
    "            continue\n",
    "\n",
    "    print('Found {} audio files with valid result file.'.format(len(flist)))\n",
    "\n",
    "    return flist\n"
   ]
  },
  {
   "cell_type": "code",
   "execution_count": 10,
   "metadata": {},
   "outputs": [],
   "source": [
    "df_all = {\"Selection\": [], \"View\": [], \"Channel\": [], \"Begin Time (s)\": [], \"End Time (s)\": [], \"Low Freq (Hz)\": [], \"High Freq (Hz)\": [], \"type\": [], \"comment\": []}\n",
    "df_all = pd.DataFrame(df_all)"
   ]
  },
  {
   "cell_type": "code",
   "execution_count": null,
   "metadata": {},
   "outputs": [],
   "source": [
    "# NEED TO RUN THE MODEL FIRST ON THE DATA\n",
    "# THEN CROSS CHECK THE DETECTIONS"
   ]
  },
  {
   "cell_type": "markdown",
   "metadata": {},
   "source": [
    "# Run the model on the audio files "
   ]
  },
  {
   "cell_type": "code",
   "execution_count": 20,
   "metadata": {},
   "outputs": [],
   "source": [
    "import numpy as np\n",
    "import torch\n",
    "import yaml\n",
    "import itertools\n",
    "import glob\n",
    "import pandas as pd\n",
    "\n",
    "from torch.quantization import quantize_dynamic\n",
    "from torch.utils.data import DataLoader, Dataset\n",
    "from sklearn.metrics import precision_recall_curve\n",
    "from sklearn.preprocessing import LabelEncoder\n",
    "\n",
    "from utils.audio_processing import openAudioFile, splitSignal\n",
    "\n",
    "class AudioList():\n",
    "\n",
    "    def __init__(self, length_segments = 3, overlap = 0, sample_rate=44100):\n",
    "        self.sample_rate = sample_rate\n",
    "        self.length_segments = length_segments\n",
    "        self.overlap = overlap\n",
    "        \n",
    "    def read_audio(self, audio_path):\n",
    "        \"\"\"Read the audio, change the sample rate and randomly pick one channel\"\"\"\n",
    "        sig, _ = openAudioFile(audio_path, sample_rate=self.sample_rate)\n",
    "        return sig\n",
    "\n",
    "    def split_segment(self, array):\n",
    "        splitted_array = splitSignal(array, rate=self.sample_rate, seconds=self.length_segments, overlap=self.overlap, minlen=3)\n",
    "        return splitted_array\n",
    "\n",
    "    def get_processed_list(self, audio_path):\n",
    "\n",
    "        list_segments = []\n",
    "\n",
    "        track = self.read_audio(audio_path)        \n",
    "        list_divided = self.split_segment(track)\n",
    "        list_segments.append(list_divided)\n",
    "        return list_segments\n",
    "\n",
    "class AudioLoader(Dataset):\n",
    "    def __init__(self, list_data, sr=44100, transform=None):\n",
    "        self.data = list_data\n",
    "        self.transform = transform\n",
    "        self.sr=sr\n",
    "\n",
    "    def __len__(self):\n",
    "        return len(self.data)\n",
    "\n",
    "    def process_data(self, data):\n",
    "\n",
    "        array = data\n",
    "        array = array.reshape(1, -1)\n",
    "        array = torch.tensor(array)\n",
    "        return array\n",
    "\n",
    "    def __getitem__(self, idx):\n",
    "        if torch.is_tensor(idx):\n",
    "            idx = idx.tolist()\n",
    "        tensor = self.process_data(self.data[idx])\n",
    "        return tensor \n",
    "\n",
    "def getPredLoader(list_arrays):\n",
    "    list_preds = AudioLoader(list_arrays)\n",
    "    predLoader = DataLoader(list_preds, batch_size=1, num_workers=4, pin_memory=False)\n",
    "    return predLoader\n",
    "\n",
    "def predict(testLoader, model):\n",
    "\n",
    "    proba_list = []\n",
    "\n",
    "    for array in testLoader:\n",
    "        tensor = array\n",
    "        output = model(tensor)\n",
    "        output = np.exp(output.detach().numpy())\n",
    "        proba_list.append(output[0][1])\n",
    "\n",
    "    return (np.array(proba_list))\n",
    "\n",
    "def initModel(model_path):\n",
    "    m = torch.load(model_path).eval()\n",
    "    #m_q = quantize_dynamic(m, qconfig_spec={torch.nn.Linear, torch.nn.Conv2d}, dtype=torch.qint8)\n",
    "    return m"
   ]
  },
  {
   "cell_type": "code",
   "execution_count": 17,
   "metadata": {},
   "outputs": [],
   "source": [
    "label_path = \"/Data/test_dataset/labels\"\n",
    "audio_test_path = \"/Data/test_dataset/audio\"\n",
    "mpath = \"/app/assets/anode.pth\""
   ]
  },
  {
   "cell_type": "code",
   "execution_count": 8,
   "metadata": {},
   "outputs": [
    {
     "name": "stdout",
     "output_type": "stream",
     "text": [
      "Found 67 audio files with valid result file.\n"
     ]
    }
   ],
   "source": [
    "flist = parseFolders(audio_test_path, label_path)"
   ]
  },
  {
   "cell_type": "code",
   "execution_count": 9,
   "metadata": {},
   "outputs": [],
   "source": [
    "#for i in range(len(flist)):\n",
    "#    filename = flist[i]['audio']\n",
    "#    AudioList().get_processed_list(filename)"
   ]
  },
  {
   "cell_type": "code",
   "execution_count": 10,
   "metadata": {},
   "outputs": [
    {
     "name": "stderr",
     "output_type": "stream",
     "text": [
      "/opt/conda/lib/python3.8/site-packages/librosa/util/decorators.py:88: UserWarning: PySoundFile failed. Trying audioread instead.\n",
      "  return f(*args, **kwargs)\n"
     ]
    }
   ],
   "source": [
    "l_audio = AudioList().get_processed_list(flist[5]['audio'])"
   ]
  },
  {
   "cell_type": "code",
   "execution_count": 14,
   "metadata": {},
   "outputs": [],
   "source": [
    "t = []\n",
    "l_segments = 3\n",
    "overlap = 2\n",
    "\n",
    "for i, _ in enumerate(l_audio[0]):\n",
    "    instant = i*l_segments\n",
    "    t.append(instant)"
   ]
  },
  {
   "cell_type": "code",
   "execution_count": 23,
   "metadata": {},
   "outputs": [],
   "source": [
    "m = initModel(mpath)"
   ]
  },
  {
   "cell_type": "code",
   "execution_count": 26,
   "metadata": {},
   "outputs": [],
   "source": [
    "test_loader = getPredLoader(l_audio[0])"
   ]
  },
  {
   "cell_type": "code",
   "execution_count": 28,
   "metadata": {},
   "outputs": [],
   "source": [
    "p = predict(test_loader, m)"
   ]
  },
  {
   "cell_type": "markdown",
   "metadata": {},
   "source": [
    "# Ground truth the predictions"
   ]
  },
  {
   "cell_type": "code",
   "execution_count": 76,
   "metadata": {},
   "outputs": [],
   "source": [
    "df = pd.read_csv(flist[5]['result'], sep='\\t').filter(items=[\"Begin Time (s)\", \"End Time (s)\", \"View\"])\n",
    "df = df[df['View'] == 'Spectrogram 1'].reset_index()"
   ]
  },
  {
   "cell_type": "code",
   "execution_count": 89,
   "metadata": {},
   "outputs": [],
   "source": [
    "predicted_label = []\n",
    "\n",
    "for i in range(len(df)):\n",
    "\n",
    "    begin_time = df.loc[i]['Begin Time (s)']\n",
    "    end_time = df.loc[i]['End Time (s)']\n",
    "\n",
    "    if begin_time <= a <= end_time:\n",
    "        predicted_label.append(1)\n",
    "        break\n",
    "    else:\n",
    "        continue\n",
    "    \n",
    "    predicted_label.append(0)\n"
   ]
  },
  {
   "cell_type": "code",
   "execution_count": 91,
   "metadata": {},
   "outputs": [],
   "source": [
    "l_segments = 3\n",
    "overlap = 0\n",
    "time_index = 0\n",
    "threshold = 0.9"
   ]
  },
  {
   "cell_type": "code",
   "execution_count": 107,
   "metadata": {},
   "outputs": [],
   "source": [
    "# transform p as binary with regards to the threshold\n",
    "p_bin = []\n",
    "\n",
    "for pred in p:\n",
    "    if pred >= threshold:\n",
    "        p_bin.append(1)\n",
    "    else:\n",
    "        p_bin.append(0)\n",
    "\n",
    "p_bin = np.array(p_bin)"
   ]
  },
  {
   "cell_type": "code",
   "execution_count": 110,
   "metadata": {},
   "outputs": [
    {
     "data": {
      "text/plain": [
       "array([0, 0, 0, 0, 0, 0, 0, 0, 0, 0, 0, 0, 0, 0, 0, 0, 0, 0, 0, 0, 0, 0,\n",
       "       0, 0, 0, 0, 0, 0, 0, 0, 0, 0, 0, 1, 1, 1, 1, 1, 0, 0, 0, 0, 0, 0,\n",
       "       0, 0, 0, 1, 1, 1, 1, 1, 1, 1, 1, 1, 1, 1, 1, 1, 1, 1, 1, 1, 1, 1,\n",
       "       1, 1, 1, 1, 0, 0, 0, 0, 0, 0, 0, 0, 0, 0, 0, 0, 0, 0, 0, 0, 0, 0,\n",
       "       0, 0, 0, 0, 0, 0, 0, 0, 0, 0, 1, 1, 1, 1, 0, 0, 0, 0, 0, 0, 0, 0,\n",
       "       0, 0, 0, 0, 0, 0, 0, 0, 0, 0, 0, 0, 0, 0, 1, 0, 0, 0, 0, 0, 0, 0,\n",
       "       0, 0, 0, 0, 0, 0, 0, 0, 0, 0, 0, 0, 0, 0, 0, 0, 0, 0, 0, 0, 0, 0,\n",
       "       0, 0, 0, 0, 0, 0, 0, 0, 0, 0, 0, 0, 0, 0, 0, 0, 0, 0, 0, 0, 0, 0,\n",
       "       0, 0, 0, 0, 0, 0, 0, 0, 0, 0, 0, 0, 0, 0, 0, 0, 0, 0, 0, 0, 0, 0,\n",
       "       0, 0, 0, 0, 0, 0, 0, 0, 0, 0, 0, 0, 0, 1, 1, 1, 1, 1, 0, 0, 0, 0,\n",
       "       0, 1, 1, 0, 0, 0, 0, 0, 0, 0, 0, 0, 0, 0, 0, 0, 0, 0, 0, 0, 0, 0,\n",
       "       0, 0, 0, 0, 0, 1, 1, 1, 1, 0, 0, 0, 0, 0, 0, 0, 0, 0, 1, 1, 1, 1,\n",
       "       1, 1, 1, 1, 1, 1, 1, 1, 1, 1, 1, 1, 1, 0, 0, 0, 0, 0, 0, 0, 0, 0,\n",
       "       0, 0, 0, 0, 0, 0, 0, 1, 1, 1, 1, 1, 1, 0, 0, 0, 0, 0, 0, 0, 0, 0,\n",
       "       0, 0, 0, 0, 0, 0, 0, 0, 0, 0, 0, 0, 0, 0, 0, 0, 0, 0, 0, 0, 0, 0,\n",
       "       0, 0, 0, 0, 0, 0, 0, 0, 0, 0, 0, 0, 0, 0, 0, 0, 0, 0, 0, 0, 0, 0,\n",
       "       0, 0, 0, 0, 0, 0, 0, 0, 0, 0, 0, 0, 0, 0, 0, 0, 0, 0, 0, 0, 0, 0,\n",
       "       0, 0, 0, 0, 0, 0, 0, 0, 0, 0, 0, 0, 0, 0, 0, 0, 0, 0, 0, 0, 0, 0,\n",
       "       0, 0, 0, 0, 0, 0, 0, 0, 0, 0, 0, 0, 0, 0, 0, 1, 1, 1, 1, 1, 1, 1,\n",
       "       0, 1, 0, 0, 1, 1, 0, 1, 1, 0, 0, 0, 0, 1, 1, 1, 1, 0, 0, 0, 0, 1,\n",
       "       1, 1, 1, 1, 1, 1, 1, 1, 1, 1, 1, 1, 1, 1, 1, 1, 1, 0, 0, 0, 0, 0,\n",
       "       0, 0, 0, 0, 0, 0, 0, 0, 0, 0, 0, 0, 0, 0, 0, 0, 0, 0, 0, 0, 0, 0,\n",
       "       1, 0, 1, 1, 1, 1, 1, 1, 1, 1, 1, 1, 0, 0, 0, 0, 0, 0, 0, 0, 0, 0,\n",
       "       0, 0, 0, 0, 0, 0, 0, 0, 0, 0, 0, 0, 0, 0, 0, 0, 0, 0, 0, 0, 0, 0,\n",
       "       0, 0, 0, 0, 0, 0, 0, 0, 0, 0, 0, 0, 0, 0, 0, 0, 0, 1, 1, 1, 1, 1,\n",
       "       1, 0, 0, 0, 0, 0, 0, 0, 0, 0, 0, 0, 0, 0, 0, 0, 0, 0, 0, 0, 0, 0,\n",
       "       0, 0, 0, 0, 0, 0, 0, 0, 0, 0, 0, 0, 0, 0, 0, 0, 0, 0, 0, 0, 0, 0,\n",
       "       0, 0, 0, 0, 0])"
      ]
     },
     "execution_count": 110,
     "metadata": {},
     "output_type": "execute_result"
    }
   ],
   "source": [
    "p_bin"
   ]
  },
  {
   "cell_type": "code",
   "execution_count": 131,
   "metadata": {},
   "outputs": [],
   "source": [
    "# GROUND TRUTH TO BINARY\n",
    "gt = []\n",
    "\n",
    "for i in range(len(l_audio[0])):\n",
    "\n",
    "    if i > 0:\n",
    "        i = i * (l_segments - overlap)\n",
    "        \n",
    "    is_in_df = False\n",
    "\n",
    "    for j in range(len(df)):\n",
    "\n",
    "        begin_time = df.loc[j]['Begin Time (s)']\n",
    "        end_time = df.loc[j]['End Time (s)']\n",
    "\n",
    "        if begin_time <= i <= end_time:\n",
    "            is_in_df = True\n",
    "        else:\n",
    "            continue\n",
    "    \n",
    "    if is_in_df:\n",
    "        gt.append(1)\n",
    "    else: \n",
    "        gt.append(0)\n",
    "\n",
    "gt = np.array(gt)"
   ]
  },
  {
   "cell_type": "code",
   "execution_count": 123,
   "metadata": {},
   "outputs": [
    {
     "data": {
      "text/html": [
       "<div>\n",
       "<style scoped>\n",
       "    .dataframe tbody tr th:only-of-type {\n",
       "        vertical-align: middle;\n",
       "    }\n",
       "\n",
       "    .dataframe tbody tr th {\n",
       "        vertical-align: top;\n",
       "    }\n",
       "\n",
       "    .dataframe thead th {\n",
       "        text-align: right;\n",
       "    }\n",
       "</style>\n",
       "<table border=\"1\" class=\"dataframe\">\n",
       "  <thead>\n",
       "    <tr style=\"text-align: right;\">\n",
       "      <th></th>\n",
       "      <th>index</th>\n",
       "      <th>Begin Time (s)</th>\n",
       "      <th>End Time (s)</th>\n",
       "      <th>View</th>\n",
       "    </tr>\n",
       "  </thead>\n",
       "  <tbody>\n",
       "    <tr>\n",
       "      <th>0</th>\n",
       "      <td>1</td>\n",
       "      <td>98.991993</td>\n",
       "      <td>116.325299</td>\n",
       "      <td>Spectrogram 1</td>\n",
       "    </tr>\n",
       "    <tr>\n",
       "      <th>1</th>\n",
       "      <td>3</td>\n",
       "      <td>148.106717</td>\n",
       "      <td>216.665269</td>\n",
       "      <td>Spectrogram 1</td>\n",
       "    </tr>\n",
       "    <tr>\n",
       "      <th>2</th>\n",
       "      <td>5</td>\n",
       "      <td>294.082802</td>\n",
       "      <td>309.237341</td>\n",
       "      <td>Spectrogram 1</td>\n",
       "    </tr>\n",
       "    <tr>\n",
       "      <th>3</th>\n",
       "      <td>7</td>\n",
       "      <td>631.682612</td>\n",
       "      <td>649.839008</td>\n",
       "      <td>Spectrogram 1</td>\n",
       "    </tr>\n",
       "    <tr>\n",
       "      <th>4</th>\n",
       "      <td>9</td>\n",
       "      <td>661.277048</td>\n",
       "      <td>682.241633</td>\n",
       "      <td>Spectrogram 1</td>\n",
       "    </tr>\n",
       "    <tr>\n",
       "      <th>5</th>\n",
       "      <td>11</td>\n",
       "      <td>743.505708</td>\n",
       "      <td>755.900475</td>\n",
       "      <td>Spectrogram 1</td>\n",
       "    </tr>\n",
       "    <tr>\n",
       "      <th>6</th>\n",
       "      <td>13</td>\n",
       "      <td>785.871505</td>\n",
       "      <td>830.996201</td>\n",
       "      <td>Spectrogram 1</td>\n",
       "    </tr>\n",
       "    <tr>\n",
       "      <th>7</th>\n",
       "      <td>15</td>\n",
       "      <td>879.198977</td>\n",
       "      <td>898.323714</td>\n",
       "      <td>Spectrogram 1</td>\n",
       "    </tr>\n",
       "    <tr>\n",
       "      <th>8</th>\n",
       "      <td>17</td>\n",
       "      <td>1232.273843</td>\n",
       "      <td>1256.433954</td>\n",
       "      <td>Spectrogram 1</td>\n",
       "    </tr>\n",
       "    <tr>\n",
       "      <th>9</th>\n",
       "      <td>19</td>\n",
       "      <td>1322.651746</td>\n",
       "      <td>1368.115361</td>\n",
       "      <td>Spectrogram 1</td>\n",
       "    </tr>\n",
       "    <tr>\n",
       "      <th>10</th>\n",
       "      <td>21</td>\n",
       "      <td>1461.491813</td>\n",
       "      <td>1487.056019</td>\n",
       "      <td>Spectrogram 1</td>\n",
       "    </tr>\n",
       "    <tr>\n",
       "      <th>11</th>\n",
       "      <td>23</td>\n",
       "      <td>1634.597105</td>\n",
       "      <td>1657.353121</td>\n",
       "      <td>Spectrogram 1</td>\n",
       "    </tr>\n",
       "  </tbody>\n",
       "</table>\n",
       "</div>"
      ],
      "text/plain": [
       "    index  Begin Time (s)  End Time (s)           View\n",
       "0       1       98.991993    116.325299  Spectrogram 1\n",
       "1       3      148.106717    216.665269  Spectrogram 1\n",
       "2       5      294.082802    309.237341  Spectrogram 1\n",
       "3       7      631.682612    649.839008  Spectrogram 1\n",
       "4       9      661.277048    682.241633  Spectrogram 1\n",
       "5      11      743.505708    755.900475  Spectrogram 1\n",
       "6      13      785.871505    830.996201  Spectrogram 1\n",
       "7      15      879.198977    898.323714  Spectrogram 1\n",
       "8      17     1232.273843   1256.433954  Spectrogram 1\n",
       "9      19     1322.651746   1368.115361  Spectrogram 1\n",
       "10     21     1461.491813   1487.056019  Spectrogram 1\n",
       "11     23     1634.597105   1657.353121  Spectrogram 1"
      ]
     },
     "execution_count": 123,
     "metadata": {},
     "output_type": "execute_result"
    }
   ],
   "source": [
    "df"
   ]
  },
  {
   "cell_type": "code",
   "execution_count": 134,
   "metadata": {},
   "outputs": [
    {
     "data": {
      "text/plain": [
       "array([0, 0, 0, 0, 0, 0, 0, 0, 0, 0, 0, 0, 0, 0, 0, 0, 0, 0, 0, 0, 0, 0,\n",
       "       0, 0, 0, 0, 0, 0, 0, 0, 0, 0, 0, 1, 1, 1, 1, 1, 1, 0, 0, 0, 0, 0,\n",
       "       0, 0, 0, 0, 0, 0, 1, 1, 1, 1, 1, 1, 1, 1, 1, 1, 1, 1, 1, 1, 1, 1,\n",
       "       1, 1, 1, 1, 1, 1, 1, 0, 0, 0, 0, 0, 0, 0, 0, 0, 0, 0, 0, 0, 0, 0,\n",
       "       0, 0, 0, 0, 0, 0, 0, 0, 0, 0, 0, 1, 1, 1, 1, 1, 0, 0, 0, 0, 0, 0,\n",
       "       0, 0, 0, 0, 0, 0, 0, 0, 0, 0, 0, 0, 0, 0, 0, 0, 0, 0, 0, 0, 0, 0,\n",
       "       0, 0, 0, 0, 0, 0, 0, 0, 0, 0, 0, 0, 0, 0, 0, 0, 0, 0, 0, 0, 0, 0,\n",
       "       0, 0, 0, 0, 0, 0, 0, 0, 0, 0, 0, 0, 0, 0, 0, 0, 0, 0, 0, 0, 0, 0,\n",
       "       0, 0, 0, 0, 0, 0, 0, 0, 0, 0, 0, 0, 0, 0, 0, 0, 0, 0, 0, 0, 0, 0,\n",
       "       0, 0, 0, 0, 0, 0, 0, 0, 0, 0, 0, 0, 0, 1, 1, 1, 1, 1, 1, 0, 0, 0,\n",
       "       0, 1, 1, 1, 1, 1, 1, 1, 0, 0, 0, 0, 0, 0, 0, 0, 0, 0, 0, 0, 0, 0,\n",
       "       0, 0, 0, 0, 0, 0, 1, 1, 1, 1, 0, 0, 0, 0, 0, 0, 0, 0, 0, 0, 1, 1,\n",
       "       1, 1, 1, 1, 1, 1, 1, 1, 1, 1, 1, 1, 1, 0, 0, 0, 0, 0, 0, 0, 0, 0,\n",
       "       0, 0, 0, 0, 0, 0, 0, 0, 1, 1, 1, 1, 1, 1, 0, 0, 0, 0, 0, 0, 0, 0,\n",
       "       0, 0, 0, 0, 0, 0, 0, 0, 0, 0, 0, 0, 0, 0, 0, 0, 0, 0, 0, 0, 0, 0,\n",
       "       0, 0, 0, 0, 0, 0, 0, 0, 0, 0, 0, 0, 0, 0, 0, 0, 0, 0, 0, 0, 0, 0,\n",
       "       0, 0, 0, 0, 0, 0, 0, 0, 0, 0, 0, 0, 0, 0, 0, 0, 0, 0, 0, 0, 0, 0,\n",
       "       0, 0, 0, 0, 0, 0, 0, 0, 0, 0, 0, 0, 0, 0, 0, 0, 0, 0, 0, 0, 0, 0,\n",
       "       0, 0, 0, 0, 0, 0, 0, 0, 0, 0, 0, 0, 0, 0, 0, 1, 1, 1, 1, 1, 1, 1,\n",
       "       1, 0, 0, 0, 0, 0, 0, 0, 0, 0, 0, 0, 0, 0, 0, 0, 0, 0, 0, 0, 0, 0,\n",
       "       0, 1, 1, 1, 1, 1, 1, 1, 1, 1, 1, 1, 1, 1, 1, 1, 1, 0, 0, 0, 0, 0,\n",
       "       0, 0, 0, 0, 0, 0, 0, 0, 0, 0, 0, 0, 0, 0, 0, 0, 0, 0, 0, 0, 0, 0,\n",
       "       0, 0, 0, 0, 1, 1, 1, 1, 1, 1, 1, 1, 0, 0, 0, 0, 0, 0, 0, 0, 0, 0,\n",
       "       0, 0, 0, 0, 0, 0, 0, 0, 0, 0, 0, 0, 0, 0, 0, 0, 0, 0, 0, 0, 0, 0,\n",
       "       0, 0, 0, 0, 0, 0, 0, 0, 0, 0, 0, 0, 0, 0, 0, 0, 0, 1, 1, 1, 1, 1,\n",
       "       1, 1, 1, 0, 0, 0, 0, 0, 0, 0, 0, 0, 0, 0, 0, 0, 0, 0, 0, 0, 0, 0,\n",
       "       0, 0, 0, 0, 0, 0, 0, 0, 0, 0, 0, 0, 0, 0, 0, 0, 0, 0, 0, 0, 0, 0,\n",
       "       0, 0, 0, 0, 0])"
      ]
     },
     "execution_count": 134,
     "metadata": {},
     "output_type": "execute_result"
    }
   ],
   "source": [
    "gt"
   ]
  },
  {
   "cell_type": "code",
   "execution_count": 137,
   "metadata": {},
   "outputs": [
    {
     "data": {
      "text/plain": [
       "array([[464,  23],\n",
       "       [ 17,  95]])"
      ]
     },
     "execution_count": 137,
     "metadata": {},
     "output_type": "execute_result"
    }
   ],
   "source": [
    "from sklearn.metrics import confusion_matrix\n",
    "\n",
    "confusion_matrix(gt, p_bin)"
   ]
  },
  {
   "cell_type": "code",
   "execution_count": 142,
   "metadata": {},
   "outputs": [],
   "source": [
    "from sklearn.metrics import roc_curve\n",
    "from sklearn.metrics import auc"
   ]
  },
  {
   "cell_type": "code",
   "execution_count": 143,
   "metadata": {},
   "outputs": [],
   "source": [
    "fpr, tpr, _ = roc_curve(gt, p)\n",
    "roc_auc = auc(fpr, tpr)"
   ]
  },
  {
   "cell_type": "code",
   "execution_count": 144,
   "metadata": {},
   "outputs": [
    {
     "data": {
      "image/png": "[encoded data removed]",
      "text/plain": [
       "<Figure size 432x288 with 1 Axes>"
      ]
     },
     "metadata": {
      "needs_background": "light"
     },
     "output_type": "display_data"
    }
   ],
   "source": [
    "import matplotlib.pyplot as plt\n",
    "\n",
    "plt.figure()\n",
    "lw = 2\n",
    "plt.plot(\n",
    "    fpr,\n",
    "    tpr,\n",
    "    color=\"darkorange\",\n",
    "    lw=lw,\n",
    "    label=\"ROC curve (area = %0.2f)\" % roc_auc,\n",
    ")\n",
    "plt.plot([0, 1], [0, 1], color=\"navy\", lw=lw, linestyle=\"--\")\n",
    "plt.xlim([0.0, 1.0])\n",
    "plt.ylim([0.0, 1.05])\n",
    "plt.xlabel(\"False Positive Rate\")\n",
    "plt.ylabel(\"True Positive Rate\")\n",
    "plt.title(\"Receiver operating characteristic example\")\n",
    "plt.legend(loc=\"lower right\")\n",
    "plt.show()"
   ]
  },
  {
   "cell_type": "code",
   "execution_count": null,
   "metadata": {},
   "outputs": [],
   "source": []
  },
  {
   "cell_type": "code",
   "execution_count": 45,
   "metadata": {},
   "outputs": [
    {
     "data": {
      "text/html": [
       "<div>\n",
       "<style scoped>\n",
       "    .dataframe tbody tr th:only-of-type {\n",
       "        vertical-align: middle;\n",
       "    }\n",
       "\n",
       "    .dataframe tbody tr th {\n",
       "        vertical-align: top;\n",
       "    }\n",
       "\n",
       "    .dataframe thead th {\n",
       "        text-align: right;\n",
       "    }\n",
       "</style>\n",
       "<table border=\"1\" class=\"dataframe\">\n",
       "  <thead>\n",
       "    <tr style=\"text-align: right;\">\n",
       "      <th></th>\n",
       "      <th>Begin Time (s)</th>\n",
       "      <th>End Time (s)</th>\n",
       "    </tr>\n",
       "  </thead>\n",
       "  <tbody>\n",
       "    <tr>\n",
       "      <th>0</th>\n",
       "      <td>98.991993</td>\n",
       "      <td>116.325299</td>\n",
       "    </tr>\n",
       "    <tr>\n",
       "      <th>1</th>\n",
       "      <td>98.991993</td>\n",
       "      <td>116.325299</td>\n",
       "    </tr>\n",
       "    <tr>\n",
       "      <th>2</th>\n",
       "      <td>148.106717</td>\n",
       "      <td>216.665269</td>\n",
       "    </tr>\n",
       "    <tr>\n",
       "      <th>3</th>\n",
       "      <td>148.106717</td>\n",
       "      <td>216.665269</td>\n",
       "    </tr>\n",
       "    <tr>\n",
       "      <th>4</th>\n",
       "      <td>294.082802</td>\n",
       "      <td>309.237341</td>\n",
       "    </tr>\n",
       "    <tr>\n",
       "      <th>5</th>\n",
       "      <td>294.082802</td>\n",
       "      <td>309.237341</td>\n",
       "    </tr>\n",
       "    <tr>\n",
       "      <th>6</th>\n",
       "      <td>631.682612</td>\n",
       "      <td>649.839008</td>\n",
       "    </tr>\n",
       "    <tr>\n",
       "      <th>7</th>\n",
       "      <td>631.682612</td>\n",
       "      <td>649.839008</td>\n",
       "    </tr>\n",
       "    <tr>\n",
       "      <th>8</th>\n",
       "      <td>661.277048</td>\n",
       "      <td>682.241633</td>\n",
       "    </tr>\n",
       "    <tr>\n",
       "      <th>9</th>\n",
       "      <td>661.277048</td>\n",
       "      <td>682.241633</td>\n",
       "    </tr>\n",
       "    <tr>\n",
       "      <th>10</th>\n",
       "      <td>743.505708</td>\n",
       "      <td>755.900475</td>\n",
       "    </tr>\n",
       "    <tr>\n",
       "      <th>11</th>\n",
       "      <td>743.505708</td>\n",
       "      <td>755.900475</td>\n",
       "    </tr>\n",
       "    <tr>\n",
       "      <th>12</th>\n",
       "      <td>785.871505</td>\n",
       "      <td>830.996201</td>\n",
       "    </tr>\n",
       "    <tr>\n",
       "      <th>13</th>\n",
       "      <td>785.871505</td>\n",
       "      <td>830.996201</td>\n",
       "    </tr>\n",
       "    <tr>\n",
       "      <th>14</th>\n",
       "      <td>879.198977</td>\n",
       "      <td>898.323714</td>\n",
       "    </tr>\n",
       "    <tr>\n",
       "      <th>15</th>\n",
       "      <td>879.198977</td>\n",
       "      <td>898.323714</td>\n",
       "    </tr>\n",
       "    <tr>\n",
       "      <th>16</th>\n",
       "      <td>1232.273843</td>\n",
       "      <td>1256.433954</td>\n",
       "    </tr>\n",
       "    <tr>\n",
       "      <th>17</th>\n",
       "      <td>1232.273843</td>\n",
       "      <td>1256.433954</td>\n",
       "    </tr>\n",
       "    <tr>\n",
       "      <th>18</th>\n",
       "      <td>1322.651746</td>\n",
       "      <td>1368.115361</td>\n",
       "    </tr>\n",
       "    <tr>\n",
       "      <th>19</th>\n",
       "      <td>1322.651746</td>\n",
       "      <td>1368.115361</td>\n",
       "    </tr>\n",
       "    <tr>\n",
       "      <th>20</th>\n",
       "      <td>1461.491813</td>\n",
       "      <td>1487.056019</td>\n",
       "    </tr>\n",
       "    <tr>\n",
       "      <th>21</th>\n",
       "      <td>1461.491813</td>\n",
       "      <td>1487.056019</td>\n",
       "    </tr>\n",
       "    <tr>\n",
       "      <th>22</th>\n",
       "      <td>1634.597105</td>\n",
       "      <td>1657.353121</td>\n",
       "    </tr>\n",
       "    <tr>\n",
       "      <th>23</th>\n",
       "      <td>1634.597105</td>\n",
       "      <td>1657.353121</td>\n",
       "    </tr>\n",
       "  </tbody>\n",
       "</table>\n",
       "</div>"
      ],
      "text/plain": [
       "    Begin Time (s)  End Time (s)\n",
       "0        98.991993    116.325299\n",
       "1        98.991993    116.325299\n",
       "2       148.106717    216.665269\n",
       "3       148.106717    216.665269\n",
       "4       294.082802    309.237341\n",
       "5       294.082802    309.237341\n",
       "6       631.682612    649.839008\n",
       "7       631.682612    649.839008\n",
       "8       661.277048    682.241633\n",
       "9       661.277048    682.241633\n",
       "10      743.505708    755.900475\n",
       "11      743.505708    755.900475\n",
       "12      785.871505    830.996201\n",
       "13      785.871505    830.996201\n",
       "14      879.198977    898.323714\n",
       "15      879.198977    898.323714\n",
       "16     1232.273843   1256.433954\n",
       "17     1232.273843   1256.433954\n",
       "18     1322.651746   1368.115361\n",
       "19     1322.651746   1368.115361\n",
       "20     1461.491813   1487.056019\n",
       "21     1461.491813   1487.056019\n",
       "22     1634.597105   1657.353121\n",
       "23     1634.597105   1657.353121"
      ]
     },
     "execution_count": 45,
     "metadata": {},
     "output_type": "execute_result"
    }
   ],
   "source": []
  },
  {
   "cell_type": "code",
   "execution_count": 6,
   "metadata": {},
   "outputs": [],
   "source": [
    "\n",
    "m = initModel(\"/app/assets/ckpt-epoch=21-val_loss=0.12-lr=0.005.ckpt\")\n",
    "\n"
   ]
  },
  {
   "cell_type": "code",
   "execution_count": null,
   "metadata": {},
   "outputs": [],
   "source": []
  },
  {
   "cell_type": "markdown",
   "metadata": {},
   "source": [
    "# OTHER SCRIPTS"
   ]
  },
  {
   "cell_type": "code",
   "execution_count": 81,
   "metadata": {},
   "outputs": [],
   "source": [
    "import numpy as np\n",
    "import torch\n",
    "import yaml\n",
    "import itertools\n",
    "import glob\n",
    "import pandas as pd\n",
    "\n",
    "from torch.quantization import quantize_dynamic\n",
    "from torch.utils.data import DataLoader, Dataset\n",
    "from sklearn.metrics import precision_recall_curve\n",
    "from sklearn.preprocessing import LabelEncoder\n",
    "\n",
    "from utils import openAudioFile, splitSignal\n",
    "\n",
    "class AudioListNoLabels():\n",
    "\n",
    "    def __init__(self, length_segments = 3, sample_rate=44100):\n",
    "        self.sample_rate = sample_rate\n",
    "        self.length_segments = length_segments\n",
    "        \n",
    "    def read_audio(self, audio_path):\n",
    "        \"\"\"Read the audio, change the sample rate and randomly pick one channel\"\"\"\n",
    "        sig, _ = openAudioFile(audio_path, sample_rate=self.sample_rate)\n",
    "        return sig\n",
    "\n",
    "    def split_segment(self, array):\n",
    "        splitted_array = splitSignal(array, rate=self.sample_rate, seconds=self.length_segments, overlap=0, minlen=3)\n",
    "        return splitted_array\n",
    "\n",
    "    def get_processed_list(self, audio_path):\n",
    "\n",
    "        list_segments = []\n",
    "\n",
    "        for item in audio_path:\n",
    "            track = self.read_audio(item)        \n",
    "            label = item.split(\"/\")[-2]\n",
    "            list_divided = self.split_segment(track)\n",
    "            list_segments.append(list_divided)\n",
    "        return list_segments\n",
    "\n",
    "class AudioLoader(Dataset):\n",
    "    def __init__(self, list_data, label_encoder, sr=44100, transform=None):\n",
    "        self.data = list_data\n",
    "        self.label_encoder = label_encoder\n",
    "        self.transform = transform\n",
    "        self.sr=sr\n",
    "\n",
    "    def __len__(self):\n",
    "        return len(self.data)\n",
    "\n",
    "    def process_data(self, data):\n",
    "\n",
    "        array, label = data\n",
    "        array = array.reshape(1, -1)\n",
    "        array = torch.tensor(array)\n",
    "\n",
    "        label_encoded = self.label_encoder.one_hot_sample(label)\n",
    "        label_class = torch.argmax(label_encoded)\n",
    "\n",
    "        return (array, label_class)\n",
    "\n",
    "    def __getitem__(self, idx):\n",
    "        if torch.is_tensor(idx):\n",
    "            idx = idx.tolist()\n",
    "        tensor, label = self.process_data(self.data[idx])\n",
    "        return tensor, label\n",
    "\n",
    "    def get_labels(self):\n",
    "        list_labels = []\n",
    "        for x,y in self.data:\n",
    "            list_labels.append(y)\n",
    "        return list_labels\n",
    "\n",
    "def initModel(model_path):\n",
    "    m = torch.load(model_path).eval()\n",
    "    m_q = quantize_dynamic(m, qconfig_spec={torch.nn.Linear, torch.nn.Conv2d}, dtype=torch.qint8)\n",
    "    return m_q\n",
    "    \n",
    "def getPredLoader(list_arrays, l):\n",
    "    list_preds = AudioLoader(list_arrays, label_encoder)\n",
    "    predLoader = DataLoader(list_preds, batch_size=1, num_workers=4, pin_memory=False)\n",
    "    return predLoader\n",
    "\n",
    "def predict(testLoader, model):\n",
    "\n",
    "    proba_list = []\n",
    "    label_list = []\n",
    "\n",
    "    for array, label in testLoader:\n",
    "        tensor = torch.tensor(array)\n",
    "        output = model(tensor)\n",
    "        output = np.exp(output.detach().numpy())\n",
    "        proba_list.append(output[0][1])\n",
    "        label_list.append(label[0])\n",
    "\n",
    "    return (np.array(proba_list), np.array(label_list))"
   ]
  },
  {
   "cell_type": "code",
   "execution_count": 47,
   "metadata": {},
   "outputs": [],
   "source": [
    "with open(\"/app/prediction_scripts/config.yaml\") as f:\n",
    "    config = yaml.load(f, Loader=yaml.FullLoader)"
   ]
  },
  {
   "cell_type": "code",
   "execution_count": 48,
   "metadata": {},
   "outputs": [],
   "source": [
    "\n",
    "###################\n",
    "# Get the dataset #\n",
    "###################\n",
    "\n",
    "allFiles = [f for f in glob.glob(config[\"INPUT_PATH\"] + \"/**/*\", recursive=True) if os.path.isfile(f)]\n",
    "allFiles = [f for f in allFiles if f.endswith( (\".WAV\", \".wav\", \".mp3\") )]\n",
    "\n",
    "# Instantiate the audio iterator class - cut the audio into segments\n",
    "audio_list= AudioList(length_segments=config[\"SIG_LENGTH\"], sample_rate=config[\"SAMPLE_RATE\"])\n",
    "\n",
    "list_test = audio_list.get_processed_list(allFiles)\n",
    "list_test = list(itertools.chain.from_iterable(list_test))\n",
    "\n",
    "###########################\n",
    "# Create the labelEncoder #\n",
    "###########################\n",
    "label_encoder = EncodeLabels(path_to_folders=config[\"INPUT_PATH\"])\n",
    "\n",
    "# Save name of the folder and associated label in a json file\n",
    "l = label_encoder.__getLabels__()\n",
    "t = label_encoder.class_encode.transform(l)\n",
    "\n",
    "folder_labels = []\n",
    "for i, j in zip(l,t):\n",
    "    item = {\"Folder\": i, \"Label\": int(j)}\n",
    "    folder_labels.append(item)"
   ]
  },
  {
   "cell_type": "code",
   "execution_count": 79,
   "metadata": {},
   "outputs": [
    {
     "name": "stderr",
     "output_type": "stream",
     "text": [
      "/tmp/ipykernel_9453/222997309.py:123: UserWarning: To copy construct from a tensor, it is recommended to use sourceTensor.clone().detach() or sourceTensor.clone().detach().requires_grad_(True), rather than torch.tensor(sourceTensor).\n",
      "  tensor = torch.tensor(array)\n"
     ]
    }
   ],
   "source": [
    "audioloader = AudioLoader(list_test, label_encoder)\n",
    "predLoader = DataLoader(audioloader, batch_size=1, num_workers=4, pin_memory=False)\n",
    "model = initModel(config[\"MODEL\"])\n",
    "proba_list, labels = predict(predLoader, model)"
   ]
  },
  {
   "cell_type": "code",
   "execution_count": 92,
   "metadata": {},
   "outputs": [],
   "source": [
    "precision, recall, thresholds = precision_recall_curve(labels, proba_list)\n",
    "thresholds = np.append(thresholds, 1)"
   ]
  },
  {
   "cell_type": "code",
   "execution_count": 94,
   "metadata": {},
   "outputs": [],
   "source": [
    "d = {'thresholds': thresholds, 'precision': precision, 'recall': recall}\n",
    "df = pd.DataFrame(data=d)"
   ]
  },
  {
   "cell_type": "code",
   "execution_count": null,
   "metadata": {},
   "outputs": [],
   "source": []
  },
  {
   "cell_type": "code",
   "execution_count": null,
   "metadata": {},
   "outputs": [
    {
     "ename": "",
     "evalue": "",
     "output_type": "error",
     "traceback": [
      "\u001b[1;31mRunning cells with 'Python 3.8.12 ('base')' requires ipykernel package.\n",
      "Run the following command to install 'ipykernel' into the Python environment. \n",
      "Command: 'conda install -n base ipykernel --update-deps --force-reinstall'"
     ]
    }
   ],
   "source": []
  },
  {
   "cell_type": "code",
   "execution_count": 14,
   "metadata": {},
   "outputs": [
    {
     "name": "stdout",
     "output_type": "stream",
     "text": [
      "['/Data/audioCLIP/results/YELLMACS_20120131_105013.csv', '/Data/audioCLIP/results/YELLPAYP_20130124_083717.csv', '/Data/audioCLIP/results/YELLMJ2B_20140327_154332.csv', '/Data/audioCLIP/results/YELLSYL3_20130206_223122.csv', '/Data/audioCLIP/results/YELLMM8K_20080214_021244.csv', '/Data/audioCLIP/results/YELLSYL3_20130207_075037.csv', '/Data/audioCLIP/results/YELLFOPP_20141229_110225.csv', '/Data/audioCLIP/results/YELLMJ23_20111229_154155.csv']\n",
      "275\n",
      "808\n",
      "37\n",
      "0\n",
      "0\n",
      "13\n",
      "568\n",
      "578\n"
     ]
    }
   ],
   "source": [
    "import pandas as pd\n",
    "import glob\n",
    "import os\n",
    "\n",
    "path = '/Data/audioCLIP/results' # use your path\n",
    "all_files = glob.glob(path + \"/*\")\n",
    "print(all_files)\n",
    "li = []\n",
    "\n",
    "for filename in all_files:\n",
    "    df = pd.read_csv(filename, index_col=None, header=0)\n",
    "    df_conf = df[df[\"confidence\"] > 0.99]\n",
    "    print(len(df_conf))\n",
    "    li.append(df)\n",
    "\n",
    "frame = pd.concat(li, axis=0, ignore_index=True)"
   ]
  },
  {
   "cell_type": "code",
   "execution_count": 17,
   "metadata": {},
   "outputs": [
    {
     "name": "stdout",
     "output_type": "stream",
     "text": [
      "ffmpeg version 4.3 Copyright (c) 2000-2020 the FFmpeg developers\n",
      "  built with gcc 7.3.0 (crosstool-NG 1.23.0.449-a04d0)\n",
      "  configuration: --prefix=/opt/conda --cc=/opt/conda/conda-bld/ffmpeg_1597178665428/_build_env/bin/x86_64-conda_cos6-linux-gnu-cc --disable-doc --disable-openssl --enable-avresample --enable-gnutls --enable-hardcoded-tables --enable-libfreetype --enable-libopenh264 --enable-pic --enable-pthreads --enable-shared --disable-static --enable-version3 --enable-zlib --enable-libmp3lame\n",
      "  libavutil      56. 51.100 / 56. 51.100\n",
      "  libavcodec     58. 91.100 / 58. 91.100\n",
      "  libavformat    58. 45.100 / 58. 45.100\n",
      "  libavdevice    58. 10.100 / 58. 10.100\n",
      "  libavfilter     7. 85.100 /  7. 85.100\n",
      "  libavresample   4.  0.  0 /  4.  0.  0\n",
      "  libswscale      5.  7.100 /  5.  7.100\n",
      "  libswresample   3.  7.100 /  3.  7.100\n",
      "\u001b[0;35m[mp3 @ 0x55be63d6ccc0] \u001b[0m\u001b[0;33mEstimating duration from bitrate, this may be inaccurate\n",
      "\u001b[0mInput #0, mp3, from '/Data/audioCLIP/files_to_split/YELLCRPA_20110112_060550.MP3':\n",
      "  Duration: 06:12:49.67, start: 0.000000, bitrate: 96 kb/s\n",
      "    Stream #0:0: Audio: mp3, 44100 Hz, stereo, fltp, 96 kb/s\n",
      "\u001b[1;35m[segment @ 0x55be63d71a00] \u001b[0mOpening '/Data/audioCLIP/output000.mp3' for writing\n",
      "Output #0, segment, to '/Data/audioCLIP/output%03d.mp3':\n",
      "  Metadata:\n",
      "    encoder         : Lavf58.45.100\n",
      "    Stream #0:0: Audio: mp3, 44100 Hz, stereo, fltp, 96 kb/s\n",
      "Stream mapping:\n",
      "  Stream #0:0 -> #0:0 (copy)\n",
      "Press [q] to stop, [?] for help\n",
      "\u001b[1;35m[segment @ 0x55be63d71a00] \u001b[0mOpening '/Data/audioCLIP/output001.mp3' for writing\n",
      "\u001b[1;35m[segment @ 0x55be63d71a00] \u001b[0mOpening '/Data/audioCLIP/output002.mp3' for writing\n",
      "\u001b[1;35m[segment @ 0x55be63d71a00] \u001b[0mOpening '/Data/audioCLIP/output003.mp3' for writing\n",
      "\u001b[1;35m[segment @ 0x55be63d71a00] \u001b[0mOpening '/Data/audioCLIP/output004.mp3' for writing\n",
      "\u001b[1;35m[segment @ 0x55be63d71a00] \u001b[0mOpening '/Data/audioCLIP/output005.mp3' for writing\n",
      "\u001b[1;35m[segment @ 0x55be63d71a00] \u001b[0mOpening '/Data/audioCLIP/output006.mp3' for writing\n",
      "\u001b[1;35m[segment @ 0x55be63d71a00] \u001b[0mOpening '/Data/audioCLIP/output007.mp3' for writing\n",
      "\u001b[1;35m[segment @ 0x55be63d71a00] \u001b[0mOpening '/Data/audioCLIP/output008.mp3' for writing\n",
      "\u001b[1;35m[segment @ 0x55be63d71a00] \u001b[0mOpening '/Data/audioCLIP/output009.mp3' for writing\n",
      "\u001b[1;35m[segment @ 0x55be63d71a00] \u001b[0mOpening '/Data/audioCLIP/output010.mp3' for writing\n",
      "\u001b[1;35m[segment @ 0x55be63d71a00] \u001b[0mOpening '/Data/audioCLIP/output011.mp3' for writing\n",
      "\u001b[1;35m[segment @ 0x55be63d71a00] \u001b[0mOpening '/Data/audioCLIP/output012.mp3' for writing\n",
      "size=N/A time=06:12:49.64 bitrate=N/A speed=3.6e+03x    \n",
      "video:0kB audio:262145kB subtitle:0kB other streams:0kB global headers:0kB muxing overhead: unknown\n"
     ]
    }
   ],
   "source": [
    "! ffmpeg -i /Data/audioCLIP/files_to_split/YELLCRPA_20110112_060550.MP3 -c copy -map 0 -segment_time 00:30:00 -f segment /Data/audioCLIP/output%03d.mp3"
   ]
  }
 ],
 "metadata": {
  "interpreter": {
   "hash": "d4d1e4263499bec80672ea0156c357c1ee493ec2b1c70f0acce89fc37c4a6abe"
  },
  "kernelspec": {
   "display_name": "Python 3.8.12 ('base')",
   "language": "python",
   "name": "python3"
  },
  "language_info": {
   "codemirror_mode": {
    "name": "ipython",
    "version": 3
   },
   "file_extension": ".py",
   "mimetype": "text/x-python",
   "name": "python",
   "nbconvert_exporter": "python",
   "pygments_lexer": "ipython3",
   "version": "3.8.12"
  },
  "orig_nbformat": 4
 },
 "nbformat": 4,
 "nbformat_minor": 2
}
