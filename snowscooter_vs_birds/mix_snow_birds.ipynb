{
 "cells": [
  {
   "cell_type": "code",
   "execution_count": 27,
   "metadata": {},
   "outputs": [],
   "source": [
    "from pydub import AudioSegment\n",
    "from glob import glob\n",
    "import os\n",
    "import random"
   ]
  },
  {
   "cell_type": "code",
   "execution_count": 35,
   "metadata": {},
   "outputs": [],
   "source": [
    "snowscooter_dir = \"/data//Model_training_data/Snowscooter_passages/*.wav\"\n",
    "bird_dir = \"/data/Noise_background/short_noises/lifeclef\"\n",
    "save_dir = \"/data/MIX_BIRDS_SNOWSCOOTER\""
   ]
  },
  {
   "cell_type": "code",
   "execution_count": 40,
   "metadata": {},
   "outputs": [],
   "source": [
    "snowscooter_files = random.sample(glob(snowscooter_dir + \"/*.wav\"), 100)\n",
    "bird_files = random.sample(glob(bird_dir + \"/*.wav\"), 100)"
   ]
  },
  {
   "cell_type": "code",
   "execution_count": 41,
   "metadata": {},
   "outputs": [],
   "source": [
    "i=0\n",
    "\n",
    "for path1, path2 in zip(snowscooter_files, bird_files):\n",
    "\n",
    "    i=i+1\n",
    "    sound1 = AudioSegment.from_file(path1, format=\"wav\").set_channels(1)\n",
    "    sound2 = AudioSegment.from_file(path2, format=\"wav\").set_channels(1)\n",
    "\n",
    "    # Overlay sound2 over sound1 at position 0  (use louder instead of sound1 to use the louder version)\n",
    "    overlay = sound1.overlay(sound2, position=0)\n",
    "    overlay = overlay[0:6000]\n",
    "\n",
    "    # simple export\n",
    "    file_name = f\"file_{i}.wav\"\n",
    "    outpath = os.path.join(save_dir, file_name)\n",
    "    overlay.export(outpath, format=\"wav\")"
   ]
  }
 ],
 "metadata": {
  "interpreter": {
   "hash": "31f2aee4e71d21fbe5cf8b01ff0e069b9275f58929596ceb00d14d90e3e16cd6"
  },
  "kernelspec": {
   "display_name": "Python 3.8.10 64-bit",
   "language": "python",
   "name": "python3"
  },
  "language_info": {
   "codemirror_mode": {
    "name": "ipython",
    "version": 3
   },
   "file_extension": ".py",
   "mimetype": "text/x-python",
   "name": "python",
   "nbconvert_exporter": "python",
   "pygments_lexer": "ipython3",
   "version": "3.8.15"
  },
  "orig_nbformat": 4
 },
 "nbformat": 4,
 "nbformat_minor": 2
}
